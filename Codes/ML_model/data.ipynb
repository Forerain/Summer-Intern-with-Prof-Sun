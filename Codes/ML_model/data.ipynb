{
 "cells": [
  {
   "cell_type": "code",
   "execution_count": 2,
   "metadata": {},
   "outputs": [],
   "source": [
    "from pymatgen import Composition, Element\n",
    "from pymatgen.ext.matproj import MPRester\n",
    "from pymatgen.ext.matproj import MPRester\n",
    "from pymatgen.core.composition import Composition\n",
    "from pymatgen.core.periodic_table import Element\n",
    "from pymatgen.core.structure import Structure\n",
    "import numpy as np\n",
    "from numpy import zeros, mean\n",
    "import pandas as pd\n",
    "from matplotlib import pyplot as plt\n",
    "import os\n",
    "import json\n",
    "MPR = MPRester(\"Z16g6jms0jQ2DAsPTeQ\")\n",
    "current_dir = os.path.join(os.path.dirname('data'))"
   ]
  },
  {
   "cell_type": "code",
   "execution_count": 4,
   "metadata": {},
   "outputs": [
    {
     "name": "stdout",
     "output_type": "stream",
     "text": [
      "Reading from db.\n"
     ]
    },
    {
     "data": {
      "application/vnd.jupyter.widget-view+json": {
       "model_id": "ee3b1d08fcf04c7a86141870475e2deb",
       "version_major": 2,
       "version_minor": 0
      },
      "text/plain": [
       "HBox(children=(FloatProgress(value=0.0, max=1750.0), HTML(value='')))"
      ]
     },
     "metadata": {},
     "output_type": "display_data"
    },
    {
     "name": "stdout",
     "output_type": "stream",
     "text": [
      "1750\n"
     ]
    }
   ],
   "source": [
    "def get_bs_entries():\n",
    "    #inquiry data\n",
    "    cache = os.path.join(current_dir, 'data1')\n",
    "    if os.path.exists(cache):\n",
    "        print(\"Loading from cache.\")\n",
    "        with open(cache, 'r') as f:\n",
    "            return json.load(f)\n",
    "    else:\n",
    "        print(\"Reading from db.\")\n",
    "        from pymatgen.ext.matproj import MPRester\n",
    "        MPR = MPRester(\"2d5wyVmhDCpPMAkq\")\n",
    "        \n",
    "        criteria = {'elements':{\"$in\":[\"Li\", \"Be\",\"C\", \"N\", \"O\", \"Na\",\"Mg\", \"Al\", \"Si\", \"P\", \"S\", \"K\", \"Ca\", \"Sc\", \"Ti\",\"V\", \"Cr\", \"Mn\", \"Fe\", \"Co\", \"Ni\", \"Cu\", \"Zn\", \"Ga\", \"Ge\", \"As\",\n",
    "            \"Se\", \"Br\", \"Rb\", \"Sr\", \"Y\", \"Zr\", \"Nb\", \"Mo\", \"Tc\", \"Ru\", \"Rh\", \"Pd\", \"Ag\", \"Cd\", \"In\", \"Sn\", \"Sb\", \"Te\", \"Cs\", \"Ba\"]}, \n",
    "\t\t\t'nelements':2,\n",
    "            'icsd_ids': {'$gte': 0},\n",
    "            'e_above_hull': {'$lte': 0.05},\n",
    "            'band_gap': {\"$gte\":0.1},\n",
    "            }\n",
    "        props = ['structure', \"material_id\",'pretty_formula','e_above_hull',\"band_gap\",\"band_structure\",\"spacegroup\",\"band_gap.search_gap.is_direct\"]\n",
    "        entries = MPR.query(criteria=criteria, properties=props)\n",
    "        \n",
    "        new_entries=[]\n",
    "        for e in entries:\n",
    "            X=e\n",
    "            X['structure']=X['structure'].as_dict()\n",
    "            new_entries.append(X)\n",
    "            \n",
    "        with open(cache, 'w') as f:\n",
    "            json.dump(new_entries, f)\n",
    "        return entries\n",
    "\n",
    "entries=get_bs_entries()\n",
    "\n",
    "print(len(entries))"
   ]
  },
  {
   "cell_type": "code",
   "execution_count": 6,
   "metadata": {},
   "outputs": [],
   "source": [
    "D = {'formula': [],'atomic_volume': [], 'band_gap': [], 'outer_electron': [], 'diff_electroneg': [], 'spacegroup':[], 'band_gap.is_direct':[]}\n",
    "\n",
    "for e in entries:\n",
    "    comp=Composition(e['pretty_formula'])\n",
    "    s=Structure.from_dict(e['structure'])\n",
    "    atomic_volume=s.volume/len(s)\n",
    "    D['atomic_volume'].append(atomic_volume)\n",
    "    D['band_gap'].append(e['band_gap'])\n",
    "    D['formula'].append(e['pretty_formula'])\n",
    "    D['spacegroup'].append(e['spacegroup']['point_group'])\n",
    "    A=sorted(comp.elements, key=lambda el: el.X)[0] # This sorts the elements by electronegativity and takes the first element\n",
    "    B=sorted(comp.elements, key=lambda el: el.X)[1] \n",
    "    D['diff_electroneg'].append(B.X-A.X)\n",
    "    \n",
    "    x1,y1 = map(lambda x: x.group, comp) #calculate the outer electron\n",
    "    x2,y2 = map(lambda x: x.Z, comp)\n",
    "    if x2 < 18 and x1 > 13:\n",
    "        x1 = x1-8\n",
    "    if y2 < 18 and y1 > 13:\n",
    "        y1 = y1-8\n",
    "    if x1 > 2:\n",
    "        x1 = x1-2\n",
    "    if y1 > 2:\n",
    "        y1 = y1-2\n",
    "    x0 = x1+y1\n",
    "    D['outer_electron'].append(x0)\n",
    "    \n",
    "    if e['band_gap.search_gap.is_direct'] == True:\n",
    "        D['band_gap.is_direct'].append(1)\n",
    "    else:\n",
    "        D['band_gap.is_direct'].append(0)\n",
    "\n",
    "df = pd.DataFrame(D)\n",
    "df.to_csv('data1.csv')"
   ]
  },
  {
   "cell_type": "code",
   "execution_count": null,
   "metadata": {},
   "outputs": [],
   "source": []
  }
 ],
 "metadata": {
  "kernelspec": {
   "display_name": "Python [conda env:py37]",
   "language": "python",
   "name": "conda-env-py37-py"
  },
  "language_info": {
   "codemirror_mode": {
    "name": "ipython",
    "version": 3
   },
   "file_extension": ".py",
   "mimetype": "text/x-python",
   "name": "python",
   "nbconvert_exporter": "python",
   "pygments_lexer": "ipython3",
   "version": "3.7.7"
  }
 },
 "nbformat": 4,
 "nbformat_minor": 4
}
